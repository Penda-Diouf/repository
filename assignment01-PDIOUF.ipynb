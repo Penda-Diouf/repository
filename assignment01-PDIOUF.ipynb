{
 "cells": [
  {
   "cell_type": "code",
   "execution_count": 1,
   "id": "34a20ef7",
   "metadata": {},
   "outputs": [
    {
     "data": {
      "text/plain": [
       "defined \u001b[32mfunction\u001b[39m \u001b[36mispgcd\u001b[39m"
      ]
     },
     "execution_count": 1,
     "metadata": {},
     "output_type": "execute_result"
    }
   ],
   "source": [
    "def ispgcd(nmbre1 :Int, nmbre2:Int):Int = {\n",
    "    if(nmbre2 == 0) nmbre1 else ispgcd(nmbre2, nmbre1%nmbre2)\n",
    "}"
   ]
  },
  {
   "cell_type": "code",
   "execution_count": 3,
   "id": "72238259",
   "metadata": {},
   "outputs": [
    {
     "data": {
      "text/plain": [
       "\u001b[36mres2\u001b[39m: \u001b[32mInt\u001b[39m = \u001b[32m1\u001b[39m"
      ]
     },
     "execution_count": 3,
     "metadata": {},
     "output_type": "execute_result"
    }
   ],
   "source": [
    "ispgcd(28,313)"
   ]
  },
  {
   "cell_type": "code",
   "execution_count": 4,
   "id": "609350f7",
   "metadata": {},
   "outputs": [
    {
     "data": {
      "text/plain": [
       "\u001b[36mres3\u001b[39m: \u001b[32mInt\u001b[39m = \u001b[32m1\u001b[39m"
      ]
     },
     "execution_count": 4,
     "metadata": {},
     "output_type": "execute_result"
    }
   ],
   "source": [
    "ispgcd(63,40)"
   ]
  },
  {
   "cell_type": "code",
   "execution_count": 72,
   "id": "e115aad8",
   "metadata": {},
   "outputs": [
    {
     "data": {
      "text/plain": [
       "defined \u001b[32mfunction\u001b[39m \u001b[36misfibonacci\u001b[39m"
      ]
     },
     "execution_count": 72,
     "metadata": {},
     "output_type": "execute_result"
    }
   ],
   "source": [
    "def isfibonacci(n:Int):Int ={\n",
    "    var F0 = 0\n",
    "    var F1 = 1\n",
    "    var Fn = 0\n",
    "    if (n<=2)Fn=n\n",
    "    else{\n",
    "        for(i<-2 to n)\n",
    "        {\n",
    "            F0 = F1\n",
    "            F1 = Fn\n",
    "            Fn = F0+F1\n",
    "        }\n",
    "    }\n",
    "    Fn\n",
    "}"
   ]
  },
  {
   "cell_type": "code",
   "execution_count": 74,
   "id": "bdb14da4",
   "metadata": {},
   "outputs": [
    {
     "data": {
      "text/plain": [
       "\u001b[36mres73\u001b[39m: \u001b[32mInt\u001b[39m = \u001b[32m0\u001b[39m"
      ]
     },
     "execution_count": 74,
     "metadata": {},
     "output_type": "execute_result"
    }
   ],
   "source": [
    "isfibonacci(0)"
   ]
  },
  {
   "cell_type": "code",
   "execution_count": 75,
   "id": "78c85efe",
   "metadata": {},
   "outputs": [
    {
     "data": {
      "text/plain": [
       "\u001b[36mres74\u001b[39m: \u001b[32mInt\u001b[39m = \u001b[32m1\u001b[39m"
      ]
     },
     "execution_count": 75,
     "metadata": {},
     "output_type": "execute_result"
    }
   ],
   "source": [
    "isfibonacci(1)"
   ]
  },
  {
   "cell_type": "code",
   "execution_count": 76,
   "id": "9b85521a",
   "metadata": {},
   "outputs": [
    {
     "data": {
      "text/plain": [
       "\u001b[36mres75\u001b[39m: \u001b[32mInt\u001b[39m = \u001b[32m196418\u001b[39m"
      ]
     },
     "execution_count": 76,
     "metadata": {},
     "output_type": "execute_result"
    }
   ],
   "source": [
    "isfibonacci(28)"
   ]
  },
  {
   "cell_type": "code",
   "execution_count": 77,
   "id": "cea99d65",
   "metadata": {},
   "outputs": [
    {
     "data": {
      "text/plain": [
       "\u001b[36mres76\u001b[39m: \u001b[32mInt\u001b[39m = \u001b[32m63245986\u001b[39m"
      ]
     },
     "execution_count": 77,
     "metadata": {},
     "output_type": "execute_result"
    }
   ],
   "source": [
    "isfibonacci(40)"
   ]
  },
  {
   "cell_type": "code",
   "execution_count": 78,
   "id": "c0f8d74e",
   "metadata": {},
   "outputs": [
    {
     "data": {
      "text/plain": [
       "\u001b[36mres77\u001b[39m: \u001b[32mInt\u001b[39m = \u001b[32m-1709589543\u001b[39m"
      ]
     },
     "execution_count": 78,
     "metadata": {},
     "output_type": "execute_result"
    }
   ],
   "source": [
    "isfibonacci(63)"
   ]
  },
  {
   "cell_type": "code",
   "execution_count": 79,
   "id": "e7ef3039",
   "metadata": {},
   "outputs": [
    {
     "data": {
      "text/plain": [
       "\u001b[36mres78\u001b[39m: \u001b[32mInt\u001b[39m = \u001b[32m1911599776\u001b[39m"
      ]
     },
     "execution_count": 79,
     "metadata": {},
     "output_type": "execute_result"
    }
   ],
   "source": [
    "isfibonacci(313)"
   ]
  },
  {
   "cell_type": "code",
   "execution_count": null,
   "id": "52335ff5",
   "metadata": {},
   "outputs": [],
   "source": []
  },
  {
   "cell_type": "code",
   "execution_count": null,
   "id": "c5a88c80",
   "metadata": {},
   "outputs": [],
   "source": []
  }
 ],
 "metadata": {
  "kernelspec": {
   "display_name": "Scala",
   "language": "scala",
   "name": "scala"
  },
  "language_info": {
   "codemirror_mode": "text/x-scala",
   "file_extension": ".sc",
   "mimetype": "text/x-scala",
   "name": "scala",
   "nbconvert_exporter": "script",
   "version": "2.12.11"
  }
 },
 "nbformat": 4,
 "nbformat_minor": 5
}
