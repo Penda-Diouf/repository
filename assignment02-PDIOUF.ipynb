{
 "cells": [
  {
   "cell_type": "code",
   "execution_count": 6,
   "metadata": {},
   "outputs": [
    {
     "name": "stdout",
     "output_type": "stream",
     "text": [
      "Bonjour Mr Mboup\n"
     ]
    },
    {
     "data": {
      "text/plain": [
       "defined \u001b[32mfunction\u001b[39m \u001b[36majouter\u001b[39m\r\n",
       "\u001b[36majout\u001b[39m: \u001b[32mString\u001b[39m => \u001b[32mString\u001b[39m = ammonite.$sess.cmd5$Helper$$Lambda$2217/0x0000000800bcc040@3a362cf2"
      ]
     },
     "execution_count": 6,
     "metadata": {},
     "output_type": "execute_result"
    }
   ],
   "source": [
    "def ajouter(prefixe: String): String => String = {\n",
    "  (chaine: String) => prefixe + \" \" + chaine\n",
    "}\n",
    "val ajout = ajouter(\"Bonjour\")\n",
    "println(ajout(\"Mr Mboup\"))"
   ]
  },
  {
   "cell_type": "code",
   "execution_count": 5,
   "metadata": {},
   "outputs": [
    {
     "name": "stdout",
     "output_type": "stream",
     "text": [
      "false\n"
     ]
    },
    {
     "data": {
      "text/plain": [
       "defined \u001b[32mfunction\u001b[39m \u001b[36mmylist\u001b[39m\r\n",
       "\u001b[36mlistes\u001b[39m: \u001b[32mList\u001b[39m[\u001b[32mInt\u001b[39m] = \u001b[33mList\u001b[39m(\u001b[32m1\u001b[39m, \u001b[32m2\u001b[39m, \u001b[32m3\u001b[39m)\r\n",
       "\u001b[36mtest\u001b[39m: \u001b[32mInt\u001b[39m => \u001b[32mBoolean\u001b[39m = ammonite.$sess.cmd4$Helper$$Lambda$2171/0x0000000800ba8840@682b7317"
      ]
     },
     "execution_count": 5,
     "metadata": {},
     "output_type": "execute_result"
    }
   ],
   "source": [
    "def mylist(liste: List[Int]): Int => Boolean = {\n",
    "  (entier: Int) => liste.contains(entier)\n",
    "}\n",
    "val listes = List(1, 2, 3)\n",
    "val test = mylist(listes)\n",
    "println(test(4))"
   ]
  },
  {
   "cell_type": "code",
   "execution_count": 8,
   "metadata": {},
   "outputs": [
    {
     "data": {
      "text/plain": [
       "defined \u001b[32mfunction\u001b[39m \u001b[36mtester\u001b[39m"
      ]
     },
     "execution_count": 8,
     "metadata": {},
     "output_type": "execute_result"
    }
   ],
   "source": [
    "def tester(liste: List[String]): String => Boolean = {\n",
    "  (element: String) => liste.contains(element)\n",
    "}"
   ]
  },
  {
   "cell_type": "code",
   "execution_count": 10,
   "metadata": {},
   "outputs": [
    {
     "name": "stdout",
     "output_type": "stream",
     "text": [
      "false\n"
     ]
    },
    {
     "data": {
      "text/plain": [
       "\u001b[36mliste\u001b[39m: \u001b[32mList\u001b[39m[\u001b[32mString\u001b[39m] = \u001b[33mList\u001b[39m(\u001b[32m\"Hello\"\u001b[39m, \u001b[32m\"Bonjour\"\u001b[39m)\r\n",
       "\u001b[36mPresenceDansListe\u001b[39m: \u001b[32mString\u001b[39m => \u001b[32mBoolean\u001b[39m = ammonite.$sess.cmd7$Helper$$Lambda$2546/0x0000000800c2e040@388ef977"
      ]
     },
     "execution_count": 10,
     "metadata": {},
     "output_type": "execute_result"
    }
   ],
   "source": [
    "val liste = List(\"Hello\", \"Bonjour\")\n",
    "val PresenceDansListe = tester(liste)\n",
    "println(PresenceDansListe(\"hello\"))"
   ]
  },
  {
   "cell_type": "code",
   "execution_count": null,
   "metadata": {},
   "outputs": [],
   "source": []
  }
 ],
 "metadata": {
  "kernelspec": {
   "display_name": "Scala",
   "language": "scala",
   "name": "scala"
  },
  "language_info": {
   "codemirror_mode": "text/x-scala",
   "file_extension": ".sc",
   "mimetype": "text/x-scala",
   "name": "scala",
   "nbconvert_exporter": "script",
   "version": "2.12.11"
  }
 },
 "nbformat": 4,
 "nbformat_minor": 4
}
